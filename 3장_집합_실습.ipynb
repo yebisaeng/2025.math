{
  "nbformat": 4,
  "nbformat_minor": 0,
  "metadata": {
    "colab": {
      "provenance": [],
      "authorship_tag": "ABX9TyPV1mzRzJt3wQ4pf51QtFNW",
      "include_colab_link": true
    },
    "kernelspec": {
      "name": "python3",
      "display_name": "Python 3"
    },
    "language_info": {
      "name": "python"
    }
  },
  "cells": [
    {
      "cell_type": "markdown",
      "metadata": {
        "id": "view-in-github",
        "colab_type": "text"
      },
      "source": [
        "<a href=\"https://colab.research.google.com/github/yebisaeng/2025.math/blob/main/3%EC%9E%A5_%EC%A7%91%ED%95%A9_%EC%8B%A4%EC%8A%B5.ipynb\" target=\"_parent\"><img src=\"https://colab.research.google.com/assets/colab-badge.svg\" alt=\"Open In Colab\"/></a>"
      ]
    },
    {
      "cell_type": "code",
      "source": [
        "print(\"Hello World!\")"
      ],
      "metadata": {
        "colab": {
          "base_uri": "https://localhost:8080/"
        },
        "id": "UlgaNzrr1ce7",
        "outputId": "8cd5540f-c778-43ca-d2f2-9227eac19c8e"
      },
      "execution_count": 19,
      "outputs": [
        {
          "output_type": "stream",
          "name": "stdout",
          "text": [
            "Hello World!\n"
          ]
        }
      ]
    },
    {
      "cell_type": "code",
      "execution_count": 20,
      "metadata": {
        "colab": {
          "base_uri": "https://localhost:8080/"
        },
        "id": "Ezq5icyXzI4Z",
        "outputId": "2160ff21-8c3e-44de-8c14-94a05c6b59fd"
      },
      "outputs": [
        {
          "output_type": "stream",
          "name": "stdout",
          "text": [
            "{1, 2, 3}\n",
            "{2, 3, 4}\n",
            "\n",
            "{2, 3}\n",
            "{1, 2, 3, 4}\n",
            "{1}\n"
          ]
        }
      ],
      "source": [
        "s1=set([1,2,3])\n",
        "print(s1)\n",
        "\n",
        "s2=set([2,3,4])\n",
        "print(s2)\n",
        "print()\n",
        "print(s1 & s2)\n",
        "print(s1 | s2)\n",
        "print(s1 - s2)"
      ]
    },
    {
      "cell_type": "code",
      "source": [
        "bankA_c = set([\"김철수\",\"이영희\",\"박민수\",\"최지우\"])\n",
        "bankB_c = set([\"이영희\",\"최지우\",\"정우성\",\"한지민\"])\n",
        "\n",
        "print(\"은행 A 고객: \",bankA_c)\n",
        "print(\"은행 B 고객: \",bankB_c)\n",
        "\n",
        "tot_c = bankA_c | bankB_c\n",
        "print(\"합병 후 전체 고객:\", tot_c)\n",
        "\n",
        "com_c = bankA_c & bankB_c\n",
        "print(\"공통 고객:\", com_c)\n",
        "\n",
        "onlyA_c = bankA_c - bankB_c\n",
        "print(\"A 은행에만 있는 고객:\", onlyA_c)\n",
        "\n",
        "onlyB_c = bankB_c - bankA_c\n",
        "print(\"B 은행에만 있는 고객:\", onlyB_c)"
      ],
      "metadata": {
        "colab": {
          "base_uri": "https://localhost:8080/"
        },
        "id": "8isLGVV61nda",
        "outputId": "d888e694-1917-4ad5-c38d-278222568485"
      },
      "execution_count": 21,
      "outputs": [
        {
          "output_type": "stream",
          "name": "stdout",
          "text": [
            "은행 A 고객:  {'최지우', '김철수', '박민수', '이영희'}\n",
            "은행 B 고객:  {'이영희', '최지우', '정우성', '한지민'}\n",
            "합병 후 전체 고객: {'김철수', '박민수', '이영희', '한지민', '최지우', '정우성'}\n",
            "공통 고객: {'이영희', '최지우'}\n",
            "A 은행에만 있는 고객: {'김철수', '박민수'}\n",
            "B 은행에만 있는 고객: {'정우성', '한지민'}\n"
          ]
        }
      ]
    },
    {
      "cell_type": "code",
      "source": [
        "import numpy as np\n",
        "\n",
        "faber_castell_cloros = {\n",
        "    \"White\": (255, 255, 255),\n",
        "    \"Black\": (0, 0 ,0),\n",
        "    \"Brown\": (150, 75, 0),\n",
        "    \"Orange\": (255, 127, 0),\n",
        "    \"Red\": (255, 0, 0),\n",
        "    \"Yellow\": (255, 255, 0),\n",
        "    \"Light Green\": (0, 255, 0),\n",
        "    \"Green\": (0, 128, 0),\n",
        "    \"Light Blue\": (0, 0, 255),\n",
        "    \"Blue\": (0, 0, 255),\n",
        "    \"Purple\": (128, 0, 128),\n",
        "    \"Pink\": (255, 192, 203)\n",
        "}\n",
        "# 입력 색상(사용자 입력값)\n",
        "input_color = (52,69,255)\n",
        "def find_nearest_color(input_rgb, color_set):\n",
        "  min_dist = float('inf')\n",
        "  nearest_name = None\n",
        "  for name, rgb in color_set.items():\n",
        "    # 유클리드 거리 계산\n",
        "    dist = np.sqrt(sum((a-b) ** 2 for a, b in zip(input_rgb, rgb)))\n",
        "    if dist < min_dist:\n",
        "      min_dist = dist\n",
        "      nearest_name = name\n",
        "  return nearest_name, color_set[nearest_name]\n",
        "\n",
        "nearest_name, nearest_rgb = find_nearest_color(input_color, faber_castell_cloros)\n",
        "\n",
        "print(f\"입력 색상: {input_color}\")\n",
        "print(f\"가장 가까운 파버카스텔 색상: {nearest_name}, RGB: {nearest_rgb}\")"
      ],
      "metadata": {
        "id": "EDIDjEaO2jne",
        "colab": {
          "base_uri": "https://localhost:8080/"
        },
        "outputId": "8c7a6958-4ec8-4485-e2e7-3cc6b6c507da"
      },
      "execution_count": 22,
      "outputs": [
        {
          "output_type": "stream",
          "name": "stdout",
          "text": [
            "입력 색상: (52, 69, 255)\n",
            "가장 가까운 파버카스텔 색상: Light Blue, RGB: (0, 0, 255)\n"
          ]
        }
      ]
    }
  ]
}