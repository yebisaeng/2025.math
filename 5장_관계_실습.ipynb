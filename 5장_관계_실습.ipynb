{
  "nbformat": 4,
  "nbformat_minor": 0,
  "metadata": {
    "colab": {
      "provenance": [],
      "authorship_tag": "ABX9TyMU6vt4SFh8tWmzVReHbDCY",
      "include_colab_link": true
    },
    "kernelspec": {
      "name": "python3",
      "display_name": "Python 3"
    },
    "language_info": {
      "name": "python"
    }
  },
  "cells": [
    {
      "cell_type": "markdown",
      "metadata": {
        "id": "view-in-github",
        "colab_type": "text"
      },
      "source": [
        "<a href=\"https://colab.research.google.com/github/yebisaeng/2025.math/blob/main/5%EC%9E%A5_%EA%B4%80%EA%B3%84_%EC%8B%A4%EC%8A%B5.ipynb\" target=\"_parent\"><img src=\"https://colab.research.google.com/assets/colab-badge.svg\" alt=\"Open In Colab\"/></a>"
      ]
    },
    {
      "cell_type": "code",
      "execution_count": 6,
      "metadata": {
        "id": "dNx2frnZHh1i"
      },
      "outputs": [],
      "source": [
        "import numpy as np\n",
        "import networkx as nx\n",
        "import matplotlib.pyplot as plt"
      ]
    },
    {
      "cell_type": "code",
      "source": [
        "A = {1, 2, 3}\n",
        "B = {2, 3, 4}\n",
        "\n",
        "R = {(1,2),(2,3),(3,2),(3,4)}\n",
        "\n",
        "print(\"관계 R:\", R)"
      ],
      "metadata": {
        "colab": {
          "base_uri": "https://localhost:8080/"
        },
        "id": "5R0jQZzz9MvM",
        "outputId": "03b67e64-6bfe-42b2-c170-0f6780d43903"
      },
      "execution_count": 7,
      "outputs": [
        {
          "output_type": "stream",
          "name": "stdout",
          "text": [
            "관계 R: {(2, 3), (3, 2), (1, 2), (3, 4)}\n"
          ]
        }
      ]
    },
    {
      "cell_type": "code",
      "source": [
        "A_list = sorted(A)\n",
        "B_list = sorted(B)\n",
        "\n",
        "relation_matrix = np.zeros((len(A_list), len(B_list)), dtype = int)\n",
        "\n",
        "for i, a in enumerate(A_list):\n",
        "    for j, b in enumerate(B_list):\n",
        "        if (a, b) in R:\n",
        "            relation_matrix[i, j] = 1\n",
        "\n",
        "print(\"관계 행렬 (rows: A, columns: B):\")\n",
        "print(relation_matrix)"
      ],
      "metadata": {
        "colab": {
          "base_uri": "https://localhost:8080/"
        },
        "id": "fnzivnOP9q_d",
        "outputId": "49ae285e-088c-4f29-da9d-7497682c22c6"
      },
      "execution_count": 8,
      "outputs": [
        {
          "output_type": "stream",
          "name": "stdout",
          "text": [
            "관계 행렬 (rows: A, columns: B):\n",
            "[[1 0 0]\n",
            " [0 1 0]\n",
            " [1 0 1]]\n"
          ]
        }
      ]
    },
    {
      "cell_type": "code",
      "source": [
        "C = {'x', 'y'}\n",
        "S = {(2,'x'), (3,'y'), (4,'x')}\n",
        "\n",
        "composed_relation = set()\n",
        "\n",
        "for (a, b1) in R:\n",
        "  for (b2, c) in S:\n",
        "    if b1 == b2:\n",
        "      composed_relation.add((a, c))\n",
        "\n",
        "print(\"합성 관계 R ∘ S:\", composed_relation)"
      ],
      "metadata": {
        "colab": {
          "base_uri": "https://localhost:8080/"
        },
        "id": "X8CzoAwB-cAm",
        "outputId": "999aa5f0-9155-423c-f568-0b677f14eecd"
      },
      "execution_count": 9,
      "outputs": [
        {
          "output_type": "stream",
          "name": "stdout",
          "text": [
            "합성 관계 R ∘ S: {(2, 'y'), (3, 'x'), (1, 'x')}\n"
          ]
        }
      ]
    }
  ]
}