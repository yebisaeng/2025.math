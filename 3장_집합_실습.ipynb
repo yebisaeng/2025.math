{
  "nbformat": 4,
  "nbformat_minor": 0,
  "metadata": {
    "colab": {
      "provenance": [],
      "authorship_tag": "ABX9TyOp5nCOyABTwt3RRxAEczcb",
      "include_colab_link": true
    },
    "kernelspec": {
      "name": "python3",
      "display_name": "Python 3"
    },
    "language_info": {
      "name": "python"
    }
  },
  "cells": [
    {
      "cell_type": "markdown",
      "metadata": {
        "id": "view-in-github",
        "colab_type": "text"
      },
      "source": [
        "<a href=\"https://colab.research.google.com/github/yebisaeng/2025.math/blob/main/3%EC%9E%A5_%EC%A7%91%ED%95%A9_%EC%8B%A4%EC%8A%B5.ipynb\" target=\"_parent\"><img src=\"https://colab.research.google.com/assets/colab-badge.svg\" alt=\"Open In Colab\"/></a>"
      ]
    },
    {
      "cell_type": "code",
      "source": [
        "print(\"Hello World!\")"
      ],
      "metadata": {
        "colab": {
          "base_uri": "https://localhost:8080/"
        },
        "id": "UlgaNzrr1ce7",
        "outputId": "e277c6e0-9850-46e1-8994-bb11cc66f182"
      },
      "execution_count": 7,
      "outputs": [
        {
          "output_type": "stream",
          "name": "stdout",
          "text": [
            "Hello World!\n"
          ]
        }
      ]
    },
    {
      "cell_type": "code",
      "execution_count": 8,
      "metadata": {
        "colab": {
          "base_uri": "https://localhost:8080/"
        },
        "id": "Ezq5icyXzI4Z",
        "outputId": "db5e6d13-1253-409b-f867-3a8d07816d29"
      },
      "outputs": [
        {
          "output_type": "stream",
          "name": "stdout",
          "text": [
            "{1, 2, 3}\n",
            "{2, 3, 4}\n",
            "\n",
            "{2, 3}\n",
            "{1, 2, 3, 4}\n",
            "{1}\n"
          ]
        }
      ],
      "source": [
        "s1=set([1,2,3])\n",
        "print(s1)\n",
        "\n",
        "s2=set([2,3,4])\n",
        "print(s2)\n",
        "print()\n",
        "print(s1 & s2)\n",
        "print(s1 | s2)\n",
        "print(s1 - s2)"
      ]
    },
    {
      "cell_type": "code",
      "source": [
        "bankA_c = set([\"김철수\",\"이영희\",\"박민수\",\"최지우\"])\n",
        "bankB_c = set([\"이영희\",\"최지우\",\"정우성\",\"한지민\"])\n",
        "\n",
        "print(\"은행 A 고객: \",bankA_c)\n",
        "print(\"은행 B 고객: \",bankB_c)\n",
        "\n",
        "tot_c = bankA_c | bankB_c\n",
        "print(\"합병 후 전체 고객:\", tot_c)\n",
        "\n",
        "com_c = bankA_c & bankB_c\n",
        "print(\"공통 고객:\", com_c)\n",
        "\n",
        "onlyA_c = bankA_c - bankB_c\n",
        "print(\"A 은행에만 있는 고객:\", onlyA_c)\n",
        "\n",
        "onlyB_c = bankB_c - bankA_c\n",
        "print(\"B 은행에만 있는 고객:\", onlyB_c)"
      ],
      "metadata": {
        "colab": {
          "base_uri": "https://localhost:8080/"
        },
        "id": "8isLGVV61nda",
        "outputId": "06e23055-a097-4d72-c5f6-9cf8d7b97827"
      },
      "execution_count": 11,
      "outputs": [
        {
          "output_type": "stream",
          "name": "stdout",
          "text": [
            "은행 A 고객:  {'박민수', '이영희', '김철수', '최지우'}\n",
            "은행 B 고객:  {'정우성', '이영희', '최지우', '한지민'}\n",
            "합병 후 전체 고객: {'정우성', '이영희', '김철수', '박민수', '최지우', '한지민'}\n",
            "공통 고객: {'이영희', '최지우'}\n",
            "A 은행에만 있는 고객: {'박민수', '김철수'}\n",
            "B 은행에만 있는 고객: {'정우성', '한지민'}\n"
          ]
        }
      ]
    },
    {
      "cell_type": "code",
      "source": [],
      "metadata": {
        "id": "EDIDjEaO2jne"
      },
      "execution_count": null,
      "outputs": []
    }
  ]
}